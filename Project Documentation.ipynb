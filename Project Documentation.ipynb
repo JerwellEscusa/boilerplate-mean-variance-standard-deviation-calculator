{
 "cells": [
  {
   "cell_type": "markdown",
   "metadata": {},
   "source": [
    "# Mean-Variance-Standard Deviation Calculator"
   ]
  },
  {
   "cell_type": "markdown",
   "metadata": {},
   "source": [
    "This notebook documents my problem-solving process of the project. My first action is to make sure I understand the instructions. I made sure to understand the required inputs and the desired output. For instance, it was not clear in the instruction whether the formula is for sample or population. I checked the `test_module.py`, and the expected results indicates the formula is for population. Next, I outlined the steps I needed to make. The first of which is refreshing on the formulas required. I then took note of the functions I would need before starting. Next, I started discovery writing the codes first to give me an outline of the sub-goals or processes that needed to happen to reach the final desired output. Afterwards, I tested the code. There were two major errors. One is calculating the variance for *axis1*, which initially used the same formula for *axis0*. I reshaped the array and change the direction of summation to solve this issue. The last error I had to fix was the mismatch in decimal numbers. I realized that I needed to use the `numpy.sum()` function instead of the `sum()` function. The key to diagnosing these errors is by checking the error messages, comparing the actual and expected results, and by doing a line editing. This is inspired from the line editing in book editing. The Jupyter notebook is instrumental in making this process is easy. I run the code line by line until I found where the error starts. For next time, if I ever had to come back to this code, I want to see how I could optimize the code to run with fewer lines."
   ]
  },
  {
   "cell_type": "code",
   "execution_count": 241,
   "metadata": {},
   "outputs": [],
   "source": [
    "# Import requisite library\n",
    "import numpy as np"
   ]
  },
  {
   "cell_type": "code",
   "execution_count": 242,
   "metadata": {},
   "outputs": [],
   "source": [
    "# I used one of the arrays from the tests\n",
    "list = [2,6,2,8,4,0,1,5,7]"
   ]
  },
  {
   "cell_type": "code",
   "execution_count": 243,
   "metadata": {},
   "outputs": [
    {
     "data": {
      "text/plain": [
       "9"
      ]
     },
     "execution_count": 243,
     "metadata": {},
     "output_type": "execute_result"
    }
   ],
   "source": [
    "# I take note of the list length for later use as the \"n\" in the formula\n",
    "total = len(list)\n",
    "total"
   ]
  },
  {
   "cell_type": "markdown",
   "metadata": {},
   "source": [
    "The if statement, inequality, and boolean operators is something I learned already. However, I did not know the codes for displaying errors, so I looked it up online. I place it here only in markdown, since I cannot run it here.\n",
    "\n",
    "`if total <9 | total >9:`\n",
    "\n",
    "        `raise ValueError(\"List must contain nine numbers.\")`"
   ]
  },
  {
   "cell_type": "code",
   "execution_count": 244,
   "metadata": {},
   "outputs": [
    {
     "data": {
      "text/plain": [
       "numpy.ndarray"
      ]
     },
     "execution_count": 244,
     "metadata": {},
     "output_type": "execute_result"
    }
   ],
   "source": [
    "# Convert list to array\n",
    "a = np.array(list)\n",
    "type(a)"
   ]
  },
  {
   "cell_type": "code",
   "execution_count": 245,
   "metadata": {},
   "outputs": [
    {
     "data": {
      "text/plain": [
       "array([[2, 6, 2],\n",
       "       [8, 4, 0],\n",
       "       [1, 5, 7]])"
      ]
     },
     "execution_count": 245,
     "metadata": {},
     "output_type": "execute_result"
    }
   ],
   "source": [
    "# Reshape the array into a 3 by 3 matrix\n",
    "a = np.reshape(a, (3,3)) #reshape into 3by3 matrix\n",
    "a"
   ]
  },
  {
   "cell_type": "code",
   "execution_count": 246,
   "metadata": {},
   "outputs": [
    {
     "data": {
      "text/plain": [
       "array([3, 3])"
      ]
     },
     "execution_count": 246,
     "metadata": {},
     "output_type": "execute_result"
    }
   ],
   "source": [
    "# Record dimensions to later extract it for the \"n\" value\n",
    "# This is not completely necessary, but I wanted it to be easily modifiable to accept more numbers\n",
    "shape = np.array(a.shape)\n",
    "shape"
   ]
  },
  {
   "cell_type": "code",
   "execution_count": 247,
   "metadata": {},
   "outputs": [
    {
     "data": {
      "text/plain": [
       "3"
      ]
     },
     "execution_count": 247,
     "metadata": {},
     "output_type": "execute_result"
    }
   ],
   "source": [
    "# Counted the rows and stored for later use\n",
    "axis_0 = shape[0]\n",
    "axis_0"
   ]
  },
  {
   "cell_type": "code",
   "execution_count": 248,
   "metadata": {},
   "outputs": [
    {
     "data": {
      "text/plain": [
       "3"
      ]
     },
     "execution_count": 248,
     "metadata": {},
     "output_type": "execute_result"
    }
   ],
   "source": [
    "# Counted the rows and stored for later use\n",
    "axis_1 = shape[1]\n",
    "axis_1"
   ]
  },
  {
   "cell_type": "code",
   "execution_count": 249,
   "metadata": {},
   "outputs": [
    {
     "data": {
      "text/plain": [
       "array([11, 15,  9])"
      ]
     },
     "execution_count": 249,
     "metadata": {},
     "output_type": "execute_result"
    }
   ],
   "source": [
    "# Sum for each column\n",
    "axis0_sum = np.sum(a, axis=0)\n",
    "axis0_sum # I made sure to verify the results in each step"
   ]
  },
  {
   "cell_type": "code",
   "execution_count": 250,
   "metadata": {},
   "outputs": [
    {
     "data": {
      "text/plain": [
       "array([10, 12, 13])"
      ]
     },
     "execution_count": 250,
     "metadata": {},
     "output_type": "execute_result"
    }
   ],
   "source": [
    "# Sum for each row\n",
    "axis1_sum = np.sum(a, axis=1)\n",
    "axis1_sum"
   ]
  },
  {
   "cell_type": "code",
   "execution_count": 251,
   "metadata": {},
   "outputs": [
    {
     "data": {
      "text/plain": [
       "35"
      ]
     },
     "execution_count": 251,
     "metadata": {},
     "output_type": "execute_result"
    }
   ],
   "source": [
    "# Sum for the list\n",
    "list_sum = np.sum(list)\n",
    "list_sum"
   ]
  },
  {
   "cell_type": "code",
   "execution_count": 252,
   "metadata": {},
   "outputs": [
    {
     "data": {
      "text/plain": [
       "array([3.66666667, 5.        , 3.        ])"
      ]
     },
     "execution_count": 252,
     "metadata": {},
     "output_type": "execute_result"
    }
   ],
   "source": [
    "# Mean for columns\n",
    "axis0_mean = axis0_sum/axis_0\n",
    "axis0_mean"
   ]
  },
  {
   "cell_type": "code",
   "execution_count": 253,
   "metadata": {},
   "outputs": [
    {
     "data": {
      "text/plain": [
       "array([3.33333333, 4.        , 4.33333333])"
      ]
     },
     "execution_count": 253,
     "metadata": {},
     "output_type": "execute_result"
    }
   ],
   "source": [
    "# Mean for rows\n",
    "axis1_mean = axis1_sum/axis_1\n",
    "axis1_mean"
   ]
  },
  {
   "cell_type": "code",
   "execution_count": 254,
   "metadata": {},
   "outputs": [
    {
     "data": {
      "text/plain": [
       "3.888888888888889"
      ]
     },
     "execution_count": 254,
     "metadata": {},
     "output_type": "execute_result"
    }
   ],
   "source": [
    "# Mean for the list\n",
    "list_mean = list_sum/total\n",
    "list_mean"
   ]
  },
  {
   "cell_type": "code",
   "execution_count": 255,
   "metadata": {},
   "outputs": [
    {
     "data": {
      "text/plain": [
       "array([9.55555556, 0.66666667, 8.66666667])"
      ]
     },
     "execution_count": 255,
     "metadata": {},
     "output_type": "execute_result"
    }
   ],
   "source": [
    "# Population variance for the columns\n",
    "axis0_var = np.sum(((a - axis0_mean)**2), axis=0)/axis_0\n",
    "axis0_var"
   ]
  },
  {
   "cell_type": "code",
   "execution_count": 256,
   "metadata": {},
   "outputs": [
    {
     "data": {
      "text/plain": [
       "array([10.66666667, 32.        , 18.66666667])"
      ]
     },
     "execution_count": 256,
     "metadata": {},
     "output_type": "execute_result"
    }
   ],
   "source": [
    "# I tested the codes here before applying to the final code. \n",
    "# I started from the inside then start building it out. \n",
    "# I first reshaped it so it was subtracted the right way\n",
    "# I then have to add the axis argument to make sure the differences are added correctly\n",
    "np.sum(((a - np.reshape(axis1_mean, (3,1)))**2), axis=1) "
   ]
  },
  {
   "cell_type": "code",
   "execution_count": 257,
   "metadata": {},
   "outputs": [
    {
     "data": {
      "text/plain": [
       "array([ 3.55555556, 10.66666667,  6.22222222])"
      ]
     },
     "execution_count": 257,
     "metadata": {},
     "output_type": "execute_result"
    }
   ],
   "source": [
    "# Population variance for the rows\n",
    "axis1_var = np.sum(((a - np.reshape(axis1_mean, (3,1)))**2), axis=1)/axis_1 #This is where one of the major error occured.\n",
    "axis1_var"
   ]
  },
  {
   "cell_type": "code",
   "execution_count": 258,
   "metadata": {},
   "outputs": [
    {
     "data": {
      "text/plain": [
       "6.987654320987654"
      ]
     },
     "execution_count": 258,
     "metadata": {},
     "output_type": "execute_result"
    }
   ],
   "source": [
    "# Population variance for the list\n",
    "list_var = (np.sum((list - list_mean)**2))/total #This is where the second major error occured.\n",
    "list_var"
   ]
  },
  {
   "cell_type": "code",
   "execution_count": 259,
   "metadata": {},
   "outputs": [],
   "source": [
    "# Standard deviation for the columns\n",
    "axis0_std = axis0_var**0.5"
   ]
  },
  {
   "cell_type": "code",
   "execution_count": 260,
   "metadata": {},
   "outputs": [
    {
     "data": {
      "text/plain": [
       "array([1.88561808, 3.26598632, 2.49443826])"
      ]
     },
     "execution_count": 260,
     "metadata": {},
     "output_type": "execute_result"
    }
   ],
   "source": [
    "# Standard deviation for the rows\n",
    "axis1_std = axis1_var**0.5\n",
    "axis1_std"
   ]
  },
  {
   "cell_type": "code",
   "execution_count": 261,
   "metadata": {},
   "outputs": [
    {
     "data": {
      "text/plain": [
       "2.6434171674156266"
      ]
     },
     "execution_count": 261,
     "metadata": {},
     "output_type": "execute_result"
    }
   ],
   "source": [
    "# Standard deviation for the list\n",
    "list_std = list_var**0.5 #This is where the second major error is reflected. \n",
    "list_std"
   ]
  },
  {
   "cell_type": "code",
   "execution_count": 262,
   "metadata": {},
   "outputs": [
    {
     "data": {
      "text/plain": [
       "2.6434171674156266"
      ]
     },
     "execution_count": 262,
     "metadata": {},
     "output_type": "execute_result"
    }
   ],
   "source": [
    "# I checked this first, but it turns out that I had to use np.sum instead of sum in the formula for variance.\n",
    "np.sqrt(list_var)"
   ]
  },
  {
   "cell_type": "code",
   "execution_count": 263,
   "metadata": {},
   "outputs": [
    {
     "data": {
      "text/plain": [
       "array([8, 6, 7])"
      ]
     },
     "execution_count": 263,
     "metadata": {},
     "output_type": "execute_result"
    }
   ],
   "source": [
    "# Extracting the max for the columns\n",
    "axis0_max = np.max(a, axis=0)\n",
    "axis0_max"
   ]
  },
  {
   "cell_type": "code",
   "execution_count": 264,
   "metadata": {},
   "outputs": [
    {
     "data": {
      "text/plain": [
       "array([6, 8, 7])"
      ]
     },
     "execution_count": 264,
     "metadata": {},
     "output_type": "execute_result"
    }
   ],
   "source": [
    "# Extracting the max for the rows\n",
    "axis1_max = np.max(a, axis=1)\n",
    "axis1_max"
   ]
  },
  {
   "cell_type": "code",
   "execution_count": 265,
   "metadata": {},
   "outputs": [
    {
     "data": {
      "text/plain": [
       "8"
      ]
     },
     "execution_count": 265,
     "metadata": {},
     "output_type": "execute_result"
    }
   ],
   "source": [
    "# Extracting the max for the list\n",
    "list_max = np.max(list)\n",
    "list_max"
   ]
  },
  {
   "cell_type": "code",
   "execution_count": 266,
   "metadata": {},
   "outputs": [
    {
     "data": {
      "text/plain": [
       "array([1, 4, 0])"
      ]
     },
     "execution_count": 266,
     "metadata": {},
     "output_type": "execute_result"
    }
   ],
   "source": [
    "# Extracting the min for the columns\n",
    "axis0_min = np.min(a, axis=0)\n",
    "axis0_min"
   ]
  },
  {
   "cell_type": "code",
   "execution_count": 267,
   "metadata": {},
   "outputs": [
    {
     "data": {
      "text/plain": [
       "array([2, 0, 1])"
      ]
     },
     "execution_count": 267,
     "metadata": {},
     "output_type": "execute_result"
    }
   ],
   "source": [
    "# Extracting the max for the rows\n",
    "axis1_min = np.min(a, axis=1)\n",
    "axis1_min"
   ]
  },
  {
   "cell_type": "code",
   "execution_count": 268,
   "metadata": {},
   "outputs": [
    {
     "data": {
      "text/plain": [
       "0"
      ]
     },
     "execution_count": 268,
     "metadata": {},
     "output_type": "execute_result"
    }
   ],
   "source": [
    "# Extracting the max for the list\n",
    "list_min = np.min(list)\n",
    "list_min"
   ]
  },
  {
   "cell_type": "code",
   "execution_count": 269,
   "metadata": {},
   "outputs": [
    {
     "data": {
      "text/plain": [
       "[[3.6666666666666665, 5.0, 3.0],\n",
       " [3.3333333333333335, 4.0, 4.333333333333333],\n",
       " 3.888888888888889]"
      ]
     },
     "execution_count": 269,
     "metadata": {},
     "output_type": "execute_result"
    }
   ],
   "source": [
    "# Compiling the mean to a list\n",
    "# I also made a mistake here and had to switch it from an array to a list\n",
    "mean_list = [axis0_mean.tolist(), axis1_mean.tolist(), list_mean.tolist()]\n",
    "mean_list"
   ]
  },
  {
   "cell_type": "code",
   "execution_count": 270,
   "metadata": {},
   "outputs": [
    {
     "data": {
      "text/plain": [
       "[[9.555555555555557, 0.6666666666666666, 8.666666666666666],\n",
       " [3.555555555555556, 10.666666666666666, 6.222222222222221],\n",
       " 6.987654320987654]"
      ]
     },
     "execution_count": 270,
     "metadata": {},
     "output_type": "execute_result"
    }
   ],
   "source": [
    "# Compiling the variance to a list\n",
    "var_list = [axis0_var.tolist(), axis1_var.tolist(), list_var.tolist()]\n",
    "var_list"
   ]
  },
  {
   "cell_type": "code",
   "execution_count": 271,
   "metadata": {},
   "outputs": [
    {
     "data": {
      "text/plain": [
       "[[3.091206165165235, 0.816496580927726, 2.943920288775949],\n",
       " [1.8856180831641267, 3.265986323710904, 2.494438257849294],\n",
       " 2.6434171674156266]"
      ]
     },
     "execution_count": 271,
     "metadata": {},
     "output_type": "execute_result"
    }
   ],
   "source": [
    "# Compiling the standard deviation to a list\n",
    "std_list = [axis0_std.tolist(), axis1_std.tolist(), list_std.tolist()]\n",
    "std_list"
   ]
  },
  {
   "cell_type": "code",
   "execution_count": 272,
   "metadata": {},
   "outputs": [
    {
     "data": {
      "text/plain": [
       "[[8, 6, 7], [6, 8, 7], 8]"
      ]
     },
     "execution_count": 272,
     "metadata": {},
     "output_type": "execute_result"
    }
   ],
   "source": [
    "# Compiling the max to a list\n",
    "max_list = [axis0_max.tolist(), axis1_max.tolist(), list_max.tolist()]\n",
    "max_list"
   ]
  },
  {
   "cell_type": "code",
   "execution_count": 273,
   "metadata": {},
   "outputs": [
    {
     "data": {
      "text/plain": [
       "[[1, 4, 0], [2, 0, 1], 0]"
      ]
     },
     "execution_count": 273,
     "metadata": {},
     "output_type": "execute_result"
    }
   ],
   "source": [
    "# Compiling the min to a list\n",
    "min_list = [axis0_min.tolist(), axis1_min.tolist(), list_min.tolist()]\n",
    "min_list"
   ]
  },
  {
   "cell_type": "code",
   "execution_count": 274,
   "metadata": {},
   "outputs": [
    {
     "data": {
      "text/plain": [
       "[[11, 15, 9], [10, 12, 13], 35]"
      ]
     },
     "execution_count": 274,
     "metadata": {},
     "output_type": "execute_result"
    }
   ],
   "source": [
    "# Compiling the sum to a list\n",
    "sum_list = [axis0_sum.tolist(), axis1_sum.tolist(), list_sum.tolist()]\n",
    "sum_list"
   ]
  },
  {
   "cell_type": "code",
   "execution_count": 275,
   "metadata": {},
   "outputs": [
    {
     "data": {
      "text/plain": [
       "{'mean': [[3.6666666666666665, 5.0, 3.0],\n",
       "  [3.3333333333333335, 4.0, 4.333333333333333],\n",
       "  3.888888888888889],\n",
       " 'variance': [[9.555555555555557, 0.6666666666666666, 8.666666666666666],\n",
       "  [3.555555555555556, 10.666666666666666, 6.222222222222221],\n",
       "  6.987654320987654],\n",
       " 'standard deviation': [[3.091206165165235,\n",
       "   0.816496580927726,\n",
       "   2.943920288775949],\n",
       "  [1.8856180831641267, 3.265986323710904, 2.494438257849294],\n",
       "  2.6434171674156266],\n",
       " 'max': [[8, 6, 7], [6, 8, 7], 8],\n",
       " 'min': [[1, 4, 0], [2, 0, 1], 0],\n",
       " 'sum': [[11, 15, 9], [10, 12, 13], 35]}"
      ]
     },
     "execution_count": 275,
     "metadata": {},
     "output_type": "execute_result"
    }
   ],
   "source": [
    "# Compiling the lists to the dictionary\n",
    "calculations = {}\n",
    "calculations['mean'] = mean_list\n",
    "calculations['variance'] = var_list\n",
    "calculations['standard deviation'] = std_list\n",
    "calculations['max'] = max_list\n",
    "calculations['min'] = min_list\n",
    "calculations['sum'] = sum_list\n",
    "calculations"
   ]
  }
 ],
 "metadata": {
  "kernelspec": {
   "display_name": "myenv",
   "language": "python",
   "name": "python3"
  },
  "language_info": {
   "codemirror_mode": {
    "name": "ipython",
    "version": 3
   },
   "file_extension": ".py",
   "mimetype": "text/x-python",
   "name": "python",
   "nbconvert_exporter": "python",
   "pygments_lexer": "ipython3",
   "version": "3.12.2"
  }
 },
 "nbformat": 4,
 "nbformat_minor": 2
}
